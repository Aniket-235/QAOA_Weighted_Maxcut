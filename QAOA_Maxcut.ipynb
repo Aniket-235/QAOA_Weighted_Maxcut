{
 "cells": [
  {
   "cell_type": "markdown",
   "metadata": {},
   "source": [
    "# QAOA Weighted Maxcut\n",
    "\n",
    "MaxCut problem — given a graph, find a way to divide it into two groups, such that the edges going between the two groups have the biggest possible weight. <br>\n",
    "The code below is the generalised solution for weighted maxcut by introducing minor changes in [the code for unweighted graph](https://lucaman99.github.io/new_blog/2020/mar16.html) by [Jack Ceroni](https://lucaman99.github.io/)"
   ]
  },
  {
   "cell_type": "markdown",
   "metadata": {},
   "source": [
    "### Cost function\n",
    "\n",
    "The MAXCUT objective is to minimize the cost function: $C \\ = \\ \\displaystyle\\sum_{a, \\ b} \\ \\frac{1}{2} w_{ab} (c_a c_b \\ - \\ 1) \\ \\ \\ \\ \\ (a, \\ b) \\ \\in \\ E$\n"
   ]
  },
  {
   "cell_type": "markdown",
   "metadata": {},
   "source": [
    "### Constructing the Hamiltonian\n",
    "\n",
    "The Hamiltonian can be constructed by mapping binary variables $c_i$ onto the eigenvalues of $Z$. The above minimization problem has the following Hamiltonian:\n",
    "\n",
    "$\\hat{H}_C \\ = \\ \\displaystyle\\sum_{a, \\ b} \\ \\frac{1}{2} w_{ab} (Z_a \\ \\otimes \\ Z_b \\ - \\ \\mathbb{I}) \\ \\ \\ \\ \\ (a, \\ b) \\ \\in \\ E$"
   ]
  },
  {
   "cell_type": "markdown",
   "metadata": {},
   "source": [
    "### Choosing the Mixer\n",
    "We choose our mixer:\n",
    "\n",
    "$\\hat{H}_M \\ = \\ \\displaystyle\\sum_{n} X_{n}$\n",
    "\n",
    "Where n sums over all qubits. This does not commute with $\\hat{H}_C$."
   ]
  },
  {
   "cell_type": "markdown",
   "metadata": {},
   "source": [
    "### Constructing QAOA circuit\n",
    "\n",
    "The full QAOA circuit:\n",
    "\n",
    "$|\\psi{(\\mathbb{\\alpha},\\mathbb{\\gamma})}> =  e^{-i\\alpha_p \\hat{H}_M}e^{-i\\gamma_p \\hat{H}_C}\\cdots e^{-i\\alpha_1 \\hat{H}_M}e^{-i\\gamma_1 \\hat{H}_C} H^{\\otimes n} |0>$\n",
    "\n",
    "Need to implement cost operator $e^{-i\\gamma_p \\hat{H}_C}$ and mixer operator $e^{-i\\alpha_p \\hat{H}_M}$"
   ]
  },
  {
   "cell_type": "markdown",
   "metadata": {},
   "source": [
    "### Graph construction:\n",
    "The Graph is constructed using the Python Library: networkx. A custom class called \"Edge\" is created to store start node, end node and weight of the edge.<br> \n",
    "A list called \"set_edge\" store all the edges of the Graph.<br>\n"
   ]
  },
  {
   "cell_type": "code",
   "execution_count": 1,
   "metadata": {},
   "outputs": [
    {
     "data": {
      "text/plain": [
       "{('0', '1'): Text(0.43486257883570945, -0.4624747766831333, '5'),\n",
       " ('0', '2'): Text(0.5465698239162602, -0.2749351141854558, '1'),\n",
       " ('1', '2'): Text(0.33121306484335983, -0.06677020261182895, '7'),\n",
       " ('1', '3'): Text(-0.04656982391626063, -0.02125908379326112, '4'),\n",
       " ('2', '3'): Text(0.06513742116429017, 0.1662805787044164, '2'),\n",
       " ('3', '4'): Text(-0.6563227337976651, 0.40209004674020904, '3')}"
      ]
     },
     "execution_count": 1,
     "metadata": {},
     "output_type": "execute_result"
    },
    {
     "data": {
      "image/png": "[encoded data removed]",
      "text/plain": [
       "<Figure size 432x288 with 1 Axes>"
      ]
     },
     "metadata": {},
     "output_type": "display_data"
    }
   ],
   "source": [
    "import networkx as nx\n",
    "from matplotlib import pyplot as plt\n",
    "\n",
    "class Graph:\n",
    "    def __init__(self, edges_set):\n",
    "        self.edges_set = edges_set\n",
    "        self.node_set = []\n",
    "        for i in edges_set:\n",
    "            if (i.start_node not in self.node_set):\n",
    "                self.node_set.append(i.start_node)\n",
    "            if (i.end_node not in self.node_set):\n",
    "                self.node_set.append(i.end_node)\n",
    "\n",
    "class Edge:\n",
    "    def __init__(self, start_node, end_node, edge_weight):\n",
    "        self.start_node = start_node\n",
    "        self.end_node = end_node\n",
    "        self.edge_weight = edge_weight\n",
    "\n",
    "set_edges = [Edge(0, 1, 5), Edge(0, 2, 1), Edge(1, 2, 7), Edge(1, 3, 4), Edge(2, 3, 2), Edge(3, 4, 3)]\n",
    "\n",
    "G = nx.Graph()\n",
    "\n",
    "for z in set_edges:\n",
    "    G.add_edge(str(z.start_node), str(z.end_node), weight = z.edge_weight)\n",
    "\n",
    "\n",
    "pos=nx.spring_layout(G) \n",
    "nx.draw_networkx(G,pos)\n",
    "labels = nx.get_edge_attributes(G,'weight')\n",
    "nx.draw_networkx_edge_labels(G,pos,edge_labels=labels)"
   ]
  },
  {
   "cell_type": "markdown",
   "metadata": {},
   "source": [
    "### Importing necessary libraries, specifying all of the initial parameters, and defining a function that gives us our initial state, which will just be an even superposition of all basis states."
   ]
  },
  {
   "cell_type": "code",
   "execution_count": 2,
   "metadata": {},
   "outputs": [],
   "source": [
    "import cirq\n",
    "import numpy as np\n",
    "import math\n",
    "from matplotlib import pyplot as plt\n",
    "import random\n",
    "from scipy.optimize import minimize\n",
    "\n",
    "# Defines the list of qubits\n",
    "\n",
    "num = 5\n",
    "depth = 4\n",
    "rep = 1000\n",
    "qubits = [cirq.GridQubit(0, i) for i in range(0, num)]\n",
    "\n",
    "\n",
    "# Defines the initialization\n",
    "\n",
    "def initialization(qubits):\n",
    "    for i in qubits:\n",
    "        yield cirq.H.on(i)"
   ]
  },
  {
   "cell_type": "markdown",
   "metadata": {},
   "source": [
    "### Function for Cost and Mixer layers:\n",
    " cost operator $e^{-i\\gamma_p \\hat{H}_C}$ and mixer operator $e^{-i\\alpha_p \\hat{H}_M}$"
   ]
  },
  {
   "cell_type": "code",
   "execution_count": 3,
   "metadata": {},
   "outputs": [],
   "source": [
    "# Defines the cost unitary\n",
    "\n",
    "def cost_unitary(qubits, gamma):\n",
    "    for i in set_edges:\n",
    "        yield cirq.ZZPowGate(exponent=-1*gamma*i.edge_weight/math.pi).on(qubits[i.start_node], qubits[i.end_node])\n",
    "\n",
    "# Defines the mixer unitary\n",
    "\n",
    "def mixer_unitary(qubits, alpha):\n",
    "    for i in range(0, len(qubits)):\n",
    "        yield cirq.XPowGate(exponent=-1*alpha/math.pi).on(qubits[i])"
   ]
  },
  {
   "cell_type": "markdown",
   "metadata": {},
   "source": [
    "### Function to create and execute the QAOA circuit:\n"
   ]
  },
  {
   "cell_type": "code",
   "execution_count": 4,
   "metadata": {},
   "outputs": [],
   "source": [
    "# Executes the circuit\n",
    "\n",
    "def create_circuit(params):\n",
    "\n",
    "    gamma = [params[0], params[2], params[4], params[6]]\n",
    "    alpha = [params[1], params[3], params[5], params[7]]\n",
    "\n",
    "    circuit = cirq.Circuit()\n",
    "    circuit.append(initialization(qubits))\n",
    "    for i in range(0, depth):\n",
    "        circuit.append(cost_unitary(qubits, gamma[i]))\n",
    "        circuit.append(mixer_unitary(qubits, alpha[i]))\n",
    "    circuit.append(cirq.measure(*qubits, key='x'))\n",
    "    #print(circuit)\n",
    "\n",
    "    simulator = cirq.Simulator()\n",
    "    results = simulator.run(circuit, repetitions=rep)\n",
    "    results = str(results)[2:].split(\", \")\n",
    "    new_res = []\n",
    "    for i in range(0, rep):\n",
    "        hold = []\n",
    "        for j in range(0, num):\n",
    "            hold.append(int(results[j][i]))\n",
    "        new_res.append(hold)\n",
    "\n",
    "    return new_res"
   ]
  },
  {
   "cell_type": "markdown",
   "metadata": {},
   "source": [
    "### The cost function:\n",
    "$C \\ = \\ \\displaystyle\\sum_{a, \\ b} \\ \\frac{1}{2} w_{ab} (c_a c_b \\ - \\ 1) \\ \\ \\ \\ \\ (a, \\ b) \\ \\in \\ E$<br>\n",
    "Since the values that are outputted from the circuit are 0s and 1s, instead of the desired 1 and −1 values. Thus, in the place of $c_n$, we defined a function $f(x) \\ = \\ 1 \\ - \\ 2x$, which maps 0 to 1 and 1 to −1:"
   ]
  },
  {
   "cell_type": "code",
   "execution_count": 5,
   "metadata": {},
   "outputs": [],
   "source": [
    "# Defines the cost function\n",
    "\n",
    "def cost_function(params):\n",
    "\n",
    "    av = create_circuit(params)\n",
    "    total_cost = 0\n",
    "    for i in range(0, len(av)):\n",
    "        for j in set_edges:\n",
    "            total_cost += j.edge_weight*0.5*( ( (1 - 2*av[i][j.start_node]) * (1 - 2*av[i][j.end_node]) ) - 1)\n",
    "    total_cost = float(total_cost)/rep\n",
    "\n",
    "    #print(\"Cost: \"+str(total_cost))\n",
    "\n",
    "    return total_cost"
   ]
  },
  {
   "cell_type": "markdown",
   "metadata": {},
   "source": [
    "### Function for Optimization:\n",
    "This function outputs the expected value of the cost function (calculate the average cost over 1000 repetitions of the algorithm). Finally, we can define a classical optimizer to tune the γ and α paramters until we arrive at a minimum expected value of the cost function. Along with the cost function, we write a bit of code that allows us to graph the results:"
   ]
  },
  {
   "cell_type": "code",
   "execution_count": 6,
   "metadata": {},
   "outputs": [],
   "source": [
    "# Defines the optimization method\n",
    "def optimize():\n",
    "    init =[float(random.randint(-314, 314))/float(100) for i in range(0, 8)]\n",
    "    out = minimize(cost_function, x0=init, method=\"COBYLA\", options={'maxiter':100})\n",
    "    print(out)\n",
    "\n",
    "    optimal_params = out['x']\n",
    "    f = create_circuit(optimal_params)\n",
    "\n",
    "    # Creates visualization of the optimal state\n",
    "\n",
    "    nums = []\n",
    "    freq = []\n",
    "\n",
    "    for i in range(0, len(f)):\n",
    "        number = 0\n",
    "        for j in range(0, len(f[i])):\n",
    "            number += 2**(len(f[i])-j-1)*f[i][j]\n",
    "        if (number in nums):\n",
    "            freq[nums.index(number)] = freq[nums.index(number)] + 1\n",
    "        else:\n",
    "            nums.append(number)\n",
    "            freq.append(1)\n",
    "\n",
    "    freq = [s/sum(freq) for s in freq]\n",
    "\n",
    "    print(nums)\n",
    "    print(freq)\n",
    "\n",
    "    x = range(0, 2**num)\n",
    "    y = []\n",
    "    for i in range(0, len(x)):\n",
    "        if (i in nums):\n",
    "            y.append(freq[nums.index(i)])\n",
    "        else:\n",
    "            y.append(0)\n",
    "    return [x,y]"
   ]
  },
  {
   "cell_type": "code",
   "execution_count": 7,
   "metadata": {},
   "outputs": [],
   "source": [
    "def plot_bar_graph(x,y):\n",
    "    plt.bar(x, y)\n",
    "    plt.show()"
   ]
  },
  {
   "cell_type": "markdown",
   "metadata": {},
   "source": [
    "## Results:"
   ]
  },
  {
   "cell_type": "code",
   "execution_count": 8,
   "metadata": {},
   "outputs": [
    {
     "name": "stdout",
     "output_type": "stream",
     "text": [
      "     fun: -16.968\n",
      "   maxcv: 0.0\n",
      " message: 'Optimization terminated successfully.'\n",
      "    nfev: 86\n",
      "  status: 1\n",
      " success: True\n",
      "       x: array([ 1.71250050e-03, -4.16965435e-01, -1.85554096e-01,  7.72979192e-01,\n",
      "        1.61412334e+00,  2.77612887e-01, -2.81809357e+00, -6.67372151e-01])\n",
      "[9, 10, 22, 23, 21, 18, 7, 8, 25, 17, 6, 14, 5, 20, 13, 26, 11, 24, 16, 27, 15, 29, 0, 2, 28]\n",
      "[0.243, 0.083, 0.245, 0.084, 0.083, 0.007, 0.005, 0.086, 0.03, 0.007, 0.022, 0.011, 0.019, 0.017, 0.005, 0.013, 0.014, 0.011, 0.004, 0.001, 0.006, 0.001, 0.001, 0.001, 0.001]\n"
     ]
    }
   ],
   "source": [
    "x, y = optimize()"
   ]
  },
  {
   "cell_type": "code",
   "execution_count": 9,
   "metadata": {},
   "outputs": [
    {
     "data": {
      "image/png": "[encoded data removed]",
      "text/plain": [
       "<Figure size 432x288 with 1 Axes>"
      ]
     },
     "metadata": {
      "needs_background": "light"
     },
     "output_type": "display_data"
    }
   ],
   "source": [
    "plot_bar_graph(x,y)"
   ]
  },
  {
   "cell_type": "markdown",
   "metadata": {},
   "source": [
    "Given Graph with Edges:<br>\n",
    "Edge(0, 1, 5), Edge(0, 2, 1), Edge(1, 2, 7), Edge(1, 3, 4), Edge(2, 3, 2), Edge(3, 4, 3)<br>\n",
    "<br>\n",
    "The optimal solution to Maxcut for the given Graph can be obtained by dividing the nodes in two groups using bits 0 and 1 as:<br>\n",
    "0 1 2 3 4 <- nodes<br>\n",
    "0 1 0 0 1 <- bitstring i.e |9><br><br>\n",
    "    OR<br><br>\n",
    "0 1 2 3 4 <- nodes<br>\n",
    "1 0 1 1 0 <- bitstring i.e |22><br>\n",
    "<br>\n",
    "The plot has highest probabilities for the state |22> and |9>, exactly the result that was expected"
   ]
  },
  {
   "cell_type": "markdown",
   "metadata": {},
   "source": [
    "### Results for simpler cases:\n",
    "Graph with three edges"
   ]
  },
  {
   "cell_type": "markdown",
   "metadata": {},
   "source": [
    "#### Initializing the circuit"
   ]
  },
  {
   "cell_type": "code",
   "execution_count": 10,
   "metadata": {},
   "outputs": [],
   "source": [
    "# Defines the list of qubits\n",
    "\n",
    "num = 3\n",
    "depth = 4\n",
    "rep = 1000\n",
    "qubits = [cirq.GridQubit(0, i) for i in range(0, num)]\n",
    "\n",
    "\n",
    "# Defines the initialization\n",
    "\n",
    "def initialization(qubits):\n",
    "    for i in qubits:\n",
    "        yield cirq.H.on(i)"
   ]
  },
  {
   "cell_type": "markdown",
   "metadata": {},
   "source": [
    "#### Case 1:"
   ]
  },
  {
   "cell_type": "code",
   "execution_count": 11,
   "metadata": {},
   "outputs": [
    {
     "data": {
      "text/plain": [
       "{('0', '1'): Text(-0.22487421686616577, -0.4290849027012502, '5'),\n",
       " ('0', '2'): Text(0.14106059366597054, -0.07091509729874995, '1'),\n",
       " ('1', '2'): Text(0.08381362320019523, 0.4999999999999998, '7')}"
      ]
     },
     "execution_count": 11,
     "metadata": {},
     "output_type": "execute_result"
    },
    {
     "data": {
      "image/png": "[encoded data removed]",
      "text/plain": [
       "<Figure size 432x288 with 1 Axes>"
      ]
     },
     "metadata": {},
     "output_type": "display_data"
    }
   ],
   "source": [
    "set_edges = [Edge(0, 1, 5), Edge(0, 2, 1), Edge(1, 2, 7)]\n",
    "\n",
    "G = nx.Graph()\n",
    "\n",
    "for z in set_edges:\n",
    "    G.add_edge(str(z.start_node), str(z.end_node), weight = z.edge_weight)\n",
    "\n",
    "\n",
    "pos=nx.spring_layout(G) \n",
    "nx.draw_networkx(G,pos)\n",
    "labels = nx.get_edge_attributes(G,'weight')\n",
    "nx.draw_networkx_edge_labels(G,pos,edge_labels=labels)"
   ]
  },
  {
   "cell_type": "code",
   "execution_count": 12,
   "metadata": {},
   "outputs": [
    {
     "name": "stdout",
     "output_type": "stream",
     "text": [
      "     fun: -10.896\n",
      "   maxcv: 0.0\n",
      " message: 'Optimization terminated successfully.'\n",
      "    nfev: 92\n",
      "  status: 1\n",
      " success: True\n",
      "       x: array([ 2.2858717 ,  0.72818709,  2.28694754,  2.64599939, -1.36981331,\n",
      "        1.69884702,  0.6982698 , -0.23840571])\n",
      "[2, 3, 5, 6, 1, 4, 0, 7]\n",
      "[0.399, 0.048, 0.411, 0.041, 0.043, 0.053, 0.004, 0.001]\n"
     ]
    }
   ],
   "source": [
    "x, y = optimize()"
   ]
  },
  {
   "cell_type": "code",
   "execution_count": 13,
   "metadata": {},
   "outputs": [
    {
     "data": {
      "image/png": "[encoded data removed]",
      "text/plain": [
       "<Figure size 432x288 with 1 Axes>"
      ]
     },
     "metadata": {
      "needs_background": "light"
     },
     "output_type": "display_data"
    }
   ],
   "source": [
    "plot_bar_graph(x,y)"
   ]
  },
  {
   "cell_type": "markdown",
   "metadata": {},
   "source": [
    "For case 1, the graph with Edges:\n",
    "Edge(0, 1, 5), Edge(0, 2, 1), Edge(1, 2, 7)<br>\n",
    "<br>\n",
    "The nodes are divided in two groups using bits 0 and 1 to obtain the optimal Maxcut solution as:<br>\n",
    "0 1 2 <- nodes<br>\n",
    "0 1 0 <- bitstring i.e |2><br><br>\n",
    "    OR<br><br>\n",
    "0 1 2 <- nodes<br>\n",
    "1 0 1 <- bitstring i.e |5><br>\n",
    "<br>\n",
    "The plot has highest probabilities for the state |5> and |2> which is exactly the expected result\n"
   ]
  },
  {
   "cell_type": "markdown",
   "metadata": {},
   "source": [
    "#### Case 2:"
   ]
  },
  {
   "cell_type": "code",
   "execution_count": 14,
   "metadata": {},
   "outputs": [
    {
     "data": {
      "text/plain": [
       "{('0', '1'): Text(0.19071633671635674, -0.5000000000000003, '5'),\n",
       " ('0', '2'): Text(-0.34468403821178945, 0.4406201191062831, '7'),\n",
       " ('1', '2'): Text(0.1539677014954327, 0.05937988089371654, '1')}"
      ]
     },
     "execution_count": 14,
     "metadata": {},
     "output_type": "execute_result"
    },
    {
     "data": {
      "image/png": "[encoded data removed]",
      "text/plain": [
       "<Figure size 432x288 with 1 Axes>"
      ]
     },
     "metadata": {},
     "output_type": "display_data"
    }
   ],
   "source": [
    "set_edges = [Edge(0, 1, 5), Edge(0, 2, 7), Edge(1, 2, 1)]\n",
    "\n",
    "G = nx.Graph()\n",
    "\n",
    "for z in set_edges:\n",
    "    G.add_edge(str(z.start_node), str(z.end_node), weight = z.edge_weight)\n",
    "\n",
    "\n",
    "pos=nx.spring_layout(G) \n",
    "nx.draw_networkx(G,pos)\n",
    "labels = nx.get_edge_attributes(G,'weight')\n",
    "nx.draw_networkx_edge_labels(G,pos,edge_labels=labels)"
   ]
  },
  {
   "cell_type": "code",
   "execution_count": 15,
   "metadata": {},
   "outputs": [
    {
     "name": "stdout",
     "output_type": "stream",
     "text": [
      "     fun: -11.72\n",
      "   maxcv: 0.0\n",
      " message: 'Optimization terminated successfully.'\n",
      "    nfev: 98\n",
      "  status: 1\n",
      " success: True\n",
      "       x: array([-1.48092763, -2.02496172, -1.78694049,  0.57798481,  2.92276951,\n",
      "       -0.97717288, -2.01339914, -1.5332155 ])\n",
      "[4, 3, 1, 5, 2, 6, 7, 0]\n",
      "[0.455, 0.505, 0.008, 0.007, 0.007, 0.009, 0.005, 0.004]\n"
     ]
    }
   ],
   "source": [
    "x, y = optimize()"
   ]
  },
  {
   "cell_type": "code",
   "execution_count": 16,
   "metadata": {},
   "outputs": [
    {
     "data": {
      "image/png": "[encoded data removed]",
      "text/plain": [
       "<Figure size 432x288 with 1 Axes>"
      ]
     },
     "metadata": {
      "needs_background": "light"
     },
     "output_type": "display_data"
    }
   ],
   "source": [
    "plot_bar_graph(x,y)"
   ]
  },
  {
   "cell_type": "markdown",
   "metadata": {},
   "source": [
    "For case 2, the graph with Edges:\n",
    "Edge(0, 1, 5), Edge(0, 2, 7), Edge(1, 2, 1)<br>\n",
    "<br>\n",
    "To obtain the optimal solution, the nodes should be seperated in two groups as follows:<br>\n",
    "0 1 2 <- nodes<br>\n",
    "0 1 1 <- bitstring i.e |3><br><br>\n",
    "    OR<br><br>\n",
    "0 1 2 <- nodes<br>\n",
    "1 0 0 <- bitstring i.e |4><br>\n",
    "<br>\n",
    "The plot has highest probabilities for the expected result state |3> and |4>.<br>"
   ]
  },
  {
   "cell_type": "markdown",
   "metadata": {},
   "source": [
    "### Case for which the output result does not match with expected optimal solution:"
   ]
  },
  {
   "cell_type": "code",
   "execution_count": 21,
   "metadata": {},
   "outputs": [],
   "source": [
    "# Defines the list of qubits\n",
    "\n",
    "num = 5\n",
    "depth = 4\n",
    "rep = 1000\n",
    "qubits = [cirq.GridQubit(0, i) for i in range(0, num)]\n",
    "\n",
    "\n",
    "# Defines the initialization\n",
    "\n",
    "def initialization(qubits):\n",
    "    for i in qubits:\n",
    "        yield cirq.H.on(i)"
   ]
  },
  {
   "cell_type": "code",
   "execution_count": 22,
   "metadata": {},
   "outputs": [
    {
     "data": {
      "text/plain": [
       "{('0', '1'): Text(0.09377675979473014, 0.6313276336972151, '5'),\n",
       " ('0', '2'): Text(0.1845993415068361, 0.45696757601032223, '1'),\n",
       " ('1', '2'): Text(0.10506911368116945, 0.2008513559597735, '7'),\n",
       " ('1', '3'): Text(-0.027468331267113438, 0.04303242398967774, '4'),\n",
       " ('2', '3'): Text(0.06335425044499252, -0.13132763369721515, '10'),\n",
       " ('3', '4'): Text(-0.1917226074913678, -0.6445732828336554, '3')}"
      ]
     },
     "execution_count": 22,
     "metadata": {},
     "output_type": "execute_result"
    },
    {
     "data": {
      "image/png": "[encoded data removed]",
      "text/plain": [
       "<Figure size 432x288 with 1 Axes>"
      ]
     },
     "metadata": {},
     "output_type": "display_data"
    }
   ],
   "source": [
    "set_edges = [Edge(0, 1, 5), Edge(0, 2, 1), Edge(1, 2, 7), Edge(1, 3, 4), Edge(2, 3, 10), Edge(3, 4, 3)]\n",
    "\n",
    "G = nx.Graph()\n",
    "\n",
    "for z in set_edges:\n",
    "    G.add_edge(str(z.start_node), str(z.end_node), weight = z.edge_weight)\n",
    "\n",
    "\n",
    "pos=nx.spring_layout(G) \n",
    "nx.draw_networkx(G,pos)\n",
    "labels = nx.get_edge_attributes(G,'weight')\n",
    "nx.draw_networkx_edge_labels(G,pos,edge_labels=labels)"
   ]
  },
  {
   "cell_type": "code",
   "execution_count": 23,
   "metadata": {},
   "outputs": [
    {
     "name": "stdout",
     "output_type": "stream",
     "text": [
      "     fun: -18.957\n",
      "   maxcv: 0.0\n",
      " message: 'Optimization terminated successfully.'\n",
      "    nfev: 93\n",
      "  status: 1\n",
      " success: True\n",
      "       x: array([-0.50379945,  0.26035153,  4.78027078, -0.86104134, -0.41658346,\n",
      "        1.82204337, -0.96888879, -1.941295  ])\n",
      "[19, 14, 18, 22, 24, 9, 31, 7, 29, 16, 13, 10, 8, 11, 28, 12, 2, 21, 23, 0, 6, 25, 20, 15, 17, 30, 3, 5, 26, 4, 1]\n",
      "[0.026, 0.021, 0.116, 0.09, 0.021, 0.1, 0.009, 0.017, 0.013, 0.015, 0.107, 0.09, 0.078, 0.018, 0.013, 0.034, 0.013, 0.071, 0.066, 0.003, 0.004, 0.004, 0.02, 0.011, 0.019, 0.001, 0.009, 0.004, 0.001, 0.005, 0.001]\n"
     ]
    }
   ],
   "source": [
    "x, y = optimize()"
   ]
  },
  {
   "cell_type": "code",
   "execution_count": 24,
   "metadata": {},
   "outputs": [
    {
     "data": {
      "image/png": "[encoded data removed]",
      "text/plain": [
       "<Figure size 432x288 with 1 Axes>"
      ]
     },
     "metadata": {
      "needs_background": "light"
     },
     "output_type": "display_data"
    }
   ],
   "source": [
    "plot_bar_graph(x,y)"
   ]
  },
  {
   "cell_type": "markdown",
   "metadata": {},
   "source": [
    "Expected optimal solution for this case is |21> and |10> but the plot results are not as expected"
   ]
  },
  {
   "cell_type": "markdown",
   "metadata": {},
   "source": [
    "### Conclusion:\n",
    "1. QAOA can solve combinatorial optimization problems.\n",
    "2. If the optimization function get stuck in some local minimum, we get an unexpected plot.\n",
    "3. Nodes are seperated in alternate fashion so the perfect solution may not be possible for complex graphs. "
   ]
  },
  {
   "cell_type": "code",
   "execution_count": null,
   "metadata": {},
   "outputs": [],
   "source": []
  }
 ],
 "metadata": {
  "kernelspec": {
   "display_name": "Python 3",
   "language": "python",
   "name": "python3"
  },
  "language_info": {
   "codemirror_mode": {
    "name": "ipython",
    "version": 3
   },
   "file_extension": ".py",
   "mimetype": "text/x-python",
   "name": "python",
   "nbconvert_exporter": "python",
   "pygments_lexer": "ipython3",
   "version": "3.7.4"
  }
 },
 "nbformat": 4,
 "nbformat_minor": 4
}
